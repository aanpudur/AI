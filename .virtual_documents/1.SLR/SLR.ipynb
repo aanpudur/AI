#import libraries

import pandas as pd 
import numpy as np
from sklearn.model_selection import train_test_split
from sklearn.linear_model import LinearRegression
from  sklearn.metrics import r2_score




#load and read data

df = pd.read_csv("insurance_pre.csv")
df.columns



#convert categorical data using get_dummies

df = pd.get_dummies(df, columns=["sex", "smoker"], drop_first=True)

print(df.head())  # Check if binary encoding worked




df["sex_male"] = df["sex_male"].astype(int)
df["smoker_yes"] = df["smoker_yes"].astype(int)
print(df.head())


X = df.drop(columns=['charges'])
y = df["charges"]






y


#split train-test  data

X_train, X_test, y_train, y_test = train_test_split(X,y, test_size=0.2, random_state=42)




#create a simple linear model and train the model

model = LinearRegression()
model.fit(X_train, y_train)

print("weight aka slope", model.coef_) #weight, slope

print("bias aka origin", model.intercept_) # bias -  origin )


#make prediction

y_pred = model.predict(X_test)




r2 = r2_score(y_test, y_pred)
print(r2)


from sklearn.metrics import mean_absolute_error, mean_squared_error

mae = mean_absolute_error(y_test, y_pred)
rmse = mean_squared_error(y_test, y_pred, squared=False) 



