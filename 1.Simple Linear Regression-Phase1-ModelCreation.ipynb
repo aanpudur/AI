{
 "cells": [
  {
   "cell_type": "code",
   "execution_count": 5,
   "id": "44db8c46-6f59-4885-b924-53f9611cfec5",
   "metadata": {},
   "outputs": [],
   "source": [
    "import pandas as pd\n",
    "     \n"
   ]
  },
  {
   "cell_type": "code",
   "execution_count": null,
   "id": "e94682eb-b062-40ba-9994-86d6fc8da37d",
   "metadata": {},
   "outputs": [],
   "source": [
    "dataset = pd.read_csv(\"Salary_Data\")"
   ]
  },
  {
   "cell_type": "code",
   "execution_count": null,
   "id": "d37b7fa8-23d2-426b-a8a3-e73e5c380b2c",
   "metadata": {},
   "outputs": [],
   "source": []
  },
  {
   "cell_type": "code",
   "execution_count": null,
   "id": "6fc85a8e-6864-4dcb-8fd9-ba5e4157f453",
   "metadata": {},
   "outputs": [],
   "source": []
  },
  {
   "cell_type": "code",
   "execution_count": null,
   "id": "f0424790-ffea-48dd-bdb4-dd14611775ff",
   "metadata": {},
   "outputs": [],
   "source": []
  },
  {
   "cell_type": "code",
   "execution_count": null,
   "id": "7ea61e52-7fb6-4482-8c06-19d250316384",
   "metadata": {},
   "outputs": [],
   "source": []
  },
  {
   "cell_type": "code",
   "execution_count": null,
   "id": "4444ab73-9a28-4f54-a5e5-010c0d5b7d90",
   "metadata": {},
   "outputs": [],
   "source": []
  }
 ],
 "metadata": {
  "kernelspec": {
   "display_name": "Python [conda env:anaconda3]",
   "language": "python",
   "name": "conda-env-anaconda3-py"
  },
  "language_info": {
   "codemirror_mode": {
    "name": "ipython",
    "version": 3
   },
   "file_extension": ".py",
   "mimetype": "text/x-python",
   "name": "python",
   "nbconvert_exporter": "python",
   "pygments_lexer": "ipython3",
   "version": "3.12.7"
  }
 },
 "nbformat": 4,
 "nbformat_minor": 5
}
