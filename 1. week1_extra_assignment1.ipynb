{
 "cells": [
  {
   "cell_type": "code",
   "execution_count": null,
   "id": "37091f6b-ad89-4f5c-91d7-7989abf10a1f",
   "metadata": {},
   "outputs": [],
   "source": [
    "#Enter your institute name? : HOPE AI\n",
    "\n",
    "name_input = input(\"Enter your name\")\n",
    "print(f\"Welcome to {name_input}\")"
   ]
  },
  {
   "cell_type": "markdown",
   "id": "f6c450d4",
   "metadata": {},
   "source": [
    "Enter your name: Raj\n",
    "Enter your age: 15\n",
    "Enter your school name: Guru school\n",
    "Enter your drgree: B.E CSE"
   ]
  },
  {
   "cell_type": "markdown",
   "id": "f1beeb0c",
   "metadata": {},
   "source": []
  },
  {
   "cell_type": "code",
   "execution_count": null,
   "id": "c1960f02",
   "metadata": {},
   "outputs": [],
   "source": [
    "student_name = input(\"Enter student name:\")\n",
    "student_age = input(\"Enter student age:\")\n",
    "student_schoolName = input(\"Enter student school name:\")\n",
    "student_education = input(\"Enter student education:\")\n",
    "\n",
    "print(f\"Student name is {student_name}, Student age is {student_age}, Student school name is {student_schoolName}, Student education is {student_education}\")\n"
   ]
  },
  {
   "cell_type": "code",
   "execution_count": null,
   "id": "134ecf40-d453-4500-99e7-8301d85f511b",
   "metadata": {},
   "outputs": [],
   "source": []
  },
  {
   "cell_type": "code",
   "execution_count": null,
   "id": "684145fa-bb21-4720-af7f-d3b8c85d7bda",
   "metadata": {},
   "outputs": [],
   "source": []
  },
  {
   "cell_type": "code",
   "execution_count": null,
   "id": "6344ea3c-9dea-429a-9a27-f30eedcbe75f",
   "metadata": {},
   "outputs": [],
   "source": []
  },
  {
   "cell_type": "code",
   "execution_count": null,
   "id": "747e68c8-c124-40e8-978e-f7599b38dd19",
   "metadata": {},
   "outputs": [],
   "source": []
  },
  {
   "cell_type": "code",
   "execution_count": null,
   "id": "8060ca3a-e5a7-4879-a46f-f2f7d542a370",
   "metadata": {},
   "outputs": [],
   "source": []
  },
  {
   "cell_type": "code",
   "execution_count": null,
   "id": "5e88f136-981b-4f6a-ab57-211d3b968a08",
   "metadata": {},
   "outputs": [],
   "source": []
  },
  {
   "cell_type": "code",
   "execution_count": null,
   "id": "e0896a7c-ace0-4955-9ec2-661190775e4b",
   "metadata": {},
   "outputs": [],
   "source": []
  },
  {
   "cell_type": "code",
   "execution_count": null,
   "id": "c9887a71-21e5-47bd-ba7a-4937286a12f9",
   "metadata": {},
   "outputs": [],
   "source": []
  }
 ],
 "metadata": {
  "kernelspec": {
   "display_name": "Python [conda env:anaconda3]",
   "language": "python",
   "name": "conda-env-anaconda3-py"
  },
  "language_info": {
   "codemirror_mode": {
    "name": "ipython",
    "version": 3
   },
   "file_extension": ".py",
   "mimetype": "text/x-python",
   "name": "python",
   "nbconvert_exporter": "python",
   "pygments_lexer": "ipython3",
   "version": "3.12.7"
  }
 },
 "nbformat": 4,
 "nbformat_minor": 5
}
